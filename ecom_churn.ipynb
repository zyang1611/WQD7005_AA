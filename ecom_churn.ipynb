{
 "cells": [
  {
   "cell_type": "code",
   "execution_count": 1,
   "metadata": {},
   "outputs": [],
   "source": [
    "import pandas as pd\n",
    "\n",
    "df = pd.read_csv('ecommerce_customer_data_large.csv')"
   ]
  },
  {
   "cell_type": "code",
   "execution_count": 7,
   "metadata": {},
   "outputs": [
    {
     "data": {
      "text/plain": [
       "0    199870\n",
       "1     50130\n",
       "Name: Churn, dtype: int64"
      ]
     },
     "execution_count": 7,
     "metadata": {},
     "output_type": "execute_result"
    }
   ],
   "source": [
    "df.Churn.value_counts()"
   ]
  },
  {
   "cell_type": "code",
   "execution_count": 8,
   "metadata": {},
   "outputs": [
    {
     "data": {
      "text/plain": [
       "1.0    101476\n",
       "0.0    101142\n",
       "Name: Returns, dtype: int64"
      ]
     },
     "execution_count": 8,
     "metadata": {},
     "output_type": "execute_result"
    }
   ],
   "source": [
    "df.Returns.value_counts()"
   ]
  },
  {
   "cell_type": "code",
   "execution_count": 2,
   "metadata": {},
   "outputs": [],
   "source": [
    "import pandas as pd\n",
    "\n",
    "customer_info_columns = ['Customer ID', 'Customer Name', 'Customer Age', 'Age', 'Gender', 'Churn']\n",
    "customers = df[customer_info_columns].drop_duplicates().reset_index(drop=True)\n",
    "\n",
    "purchase_info_columns = ['Customer ID', 'Purchase Date', 'Product Category', 'Product Price', 'Quantity', 'Total Purchase Amount', 'Payment Method', 'Returns']\n",
    "transations = df[purchase_info_columns]\n"
   ]
  },
  {
   "cell_type": "code",
   "execution_count": 6,
   "metadata": {},
   "outputs": [
    {
     "name": "stderr",
     "output_type": "stream",
     "text": [
      "/var/folders/j2/_fwtsnt17yv2984h526c70x40000gn/T/ipykernel_71351/3832575821.py:3: SettingWithCopyWarning: \n",
      "A value is trying to be set on a copy of a slice from a DataFrame.\n",
      "Try using .loc[row_indexer,col_indexer] = value instead\n",
      "\n",
      "See the caveats in the documentation: https://pandas.pydata.org/pandas-docs/stable/user_guide/indexing.html#returning-a-view-versus-a-copy\n",
      "  transations['Transaction ID'] = np.arange(start=100, stop=100 + len(transations))\n"
     ]
    }
   ],
   "source": [
    "import numpy as np\n",
    "\n",
    "transations['Transaction ID'] = np.arange(start=100, stop=100 + len(transations))\n"
   ]
  },
  {
   "cell_type": "code",
   "execution_count": 15,
   "metadata": {},
   "outputs": [],
   "source": [
    "customers.to_csv('customers.csv', index=False)"
   ]
  },
  {
   "cell_type": "code",
   "execution_count": 7,
   "metadata": {},
   "outputs": [],
   "source": [
    "transations.to_csv('transations.csv', index=False)"
   ]
  },
  {
   "cell_type": "code",
   "execution_count": null,
   "metadata": {},
   "outputs": [],
   "source": [
    "import pandas as pd\n",
    "from datetime import datetime\n",
    "\n",
    "customers_df = pd.read_csv('customers_clean.csv')\n",
    "transactions_df = pd.read_csv('transactions_clean.csv')\n",
    "transactions_df['Purchase_Date'] = pd.to_datetime(transactions_df['Purchase_Date'])\n",
    "\n",
    "# calculate days since last purchase for each customer\n",
    "reference_date = max(transactions_df['Purchase_Date'].max(), datetime.now())\n",
    "last_purchase_df = transactions_df.groupby('Customer_ID')['Purchase_Date'].max().reset_index()\n",
    "last_purchase_df['Days_Since_Last_Purchase'] = (reference_date - last_purchase_df['Purchase_Date']).dt.days\n",
    "last_purchase_df = last_purchase_df[['Customer_ID', 'Days_Since_Last_Purchase']]\n",
    "\n",
    "# calculate total spend estimate (CLTV) for each customer\n",
    "cltv_df = transactions_df.groupby('Customer_ID')['Total_Purchase_Amount'].sum().reset_index()\n",
    "cltv_df.columns = ['Customer_ID', 'CLTV']\n",
    "\n",
    "# calculate average transaction value for each customer\n",
    "avg_txn_value_df = transactions_df.groupby('Customer_ID')['Total_Purchase_Amount'].mean().reset_index()\n",
    "avg_txn_value_df.columns = ['Customer_ID', 'Avg_Txn_Value']\n",
    "\n",
    "# favorite category for each customer\n",
    "fav_category_df = transactions_df.groupby(['Customer_ID', 'Product_Category']).size().reset_index(name='count')\n",
    "fav_category_df = fav_category_df.sort_values(['Customer_ID', 'count'], ascending=[True, False])\n",
    "fav_category_df = fav_category_df.drop_duplicates(subset=['Customer_ID'])\n",
    "fav_category_df.columns = ['Customer_ID', 'Fav_Category', 'count']\n",
    "\n",
    "# return rate for each customer\n",
    "returns_df = transactions_df.groupby('Customer_ID')['Returns'].sum().reset_index()\n",
    "total_txn_df = transactions_df.groupby('Customer_ID').size().reset_index(name='total_transactions')\n",
    "return_rate_df = pd.merge(returns_df, total_txn_df, on='Customer_ID')\n",
    "return_rate_df['Return_Rate'] = return_rate_df['Returns'] / return_rate_df['total_transactions']\n",
    "return_rate_df = return_rate_df[['Customer_ID', 'Return_Rate']]\n",
    "\n",
    "# favorite payment method for each customer\n",
    "fav_payment_method_df = transactions_df.groupby(['Customer_ID', 'Payment_Method']).size().reset_index(name='count')\n",
    "fav_payment_method_df = fav_payment_method_df.sort_values(['Customer_ID', 'count'], ascending=[True, False])\n",
    "fav_payment_method_df = fav_payment_method_df.drop_duplicates(subset=['Customer_ID'])\n",
    "fav_payment_method_df.columns = ['Customer_ID', 'Fav_Payment_Method', 'count']\n",
    "\n",
    "# merge all data\n",
    "churn_analysis_df = customers_df.merge(last_purchase_df, on='Customer_ID', how='left')\n",
    "churn_analysis_df = churn_analysis_df.merge(cltv_df, on='Customer_ID', how='left')\n",
    "churn_analysis_df = churn_analysis_df.merge(avg_txn_value_df, on='Customer_ID', how='left')\n",
    "churn_analysis_df = churn_analysis_df.merge(fav_category_df[['Customer_ID', 'Fav_Category']], on='Customer_ID', how='left')\n",
    "churn_analysis_df = churn_analysis_df.merge(return_rate_df, on='Customer_ID', how='left')\n",
    "churn_analysis_df = churn_analysis_df.merge(fav_payment_method_df[['Customer_ID', 'Fav_Payment_Method']], on='Customer_ID', how='left')\n",
    "churn_analysis_df = churn_analysis_df[['Customer_ID', 'Age', 'Gender', 'Days_Since_Last_Purchase', 'CLTV', 'Avg_Txn_Value', 'Fav_Category', 'Return_Rate', 'Fav_Payment_Method', 'Churn']]\n",
    "\n",
    "churn_analysis_df.to_csv('churn_analysis.csv', index=False)"
   ]
  },
  {
   "cell_type": "code",
   "execution_count": 11,
   "metadata": {},
   "outputs": [
    {
     "data": {
      "text/plain": [
       "0.500000    8156\n",
       "0.000000    6121\n",
       "0.333333    5826\n",
       "0.250000    3610\n",
       "0.400000    3346\n",
       "            ... \n",
       "0.769231       1\n",
       "0.235294       1\n",
       "0.900000       1\n",
       "0.076923       1\n",
       "0.437500       1\n",
       "Name: Return_Rate, Length: 64, dtype: int64"
      ]
     },
     "execution_count": 11,
     "metadata": {},
     "output_type": "execute_result"
    }
   ],
   "source": [
    "churn_analysis_df.Return_Rate.value_counts()"
   ]
  },
  {
   "cell_type": "code",
   "execution_count": null,
   "metadata": {},
   "outputs": [],
   "source": []
  }
 ],
 "metadata": {
  "kernelspec": {
   "display_name": "all",
   "language": "python",
   "name": "python3"
  },
  "language_info": {
   "codemirror_mode": {
    "name": "ipython",
    "version": 3
   },
   "file_extension": ".py",
   "mimetype": "text/x-python",
   "name": "python",
   "nbconvert_exporter": "python",
   "pygments_lexer": "ipython3",
   "version": "3.11.4"
  }
 },
 "nbformat": 4,
 "nbformat_minor": 2
}
